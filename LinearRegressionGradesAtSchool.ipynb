{
 "cells": [
  {
   "cell_type": "code",
   "execution_count": 261,
   "id": "f01ba19f",
   "metadata": {},
   "outputs": [],
   "source": [
    "from sklearn.model_selection import train_test_split\n",
    "from sklearn.preprocessing import MinMaxScaler\n",
    "from sklearn.linear_model import LinearRegression\n",
    "\n",
    "from category_encoders.target_encoder import TargetEncoder\n",
    "import pandas as pd"
   ]
  },
  {
   "cell_type": "code",
   "execution_count": 262,
   "id": "dd37bfb2",
   "metadata": {},
   "outputs": [
    {
     "name": "stderr",
     "output_type": "stream",
     "text": [
      "C:\\Users\\vikto\\AppData\\Local\\Temp\\ipykernel_10116\\2382905503.py:2: FutureWarning: The default value of numeric_only in DataFrame.corr is deprecated. In a future version, it will default to False. Select only valid columns or specify the value of numeric_only to silence this warning.\n",
      "  corr = data.corr()['G3']\n"
     ]
    }
   ],
   "source": [
    "data = pd.read_csv('student-mat.csv')\n",
    "corr = data.corr()['G3']"
   ]
  },
  {
   "cell_type": "code",
   "execution_count": 263,
   "id": "a4f803be",
   "metadata": {},
   "outputs": [],
   "source": [
    "corr = corr[(corr >= 0.1) | (corr <= -0.1)]"
   ]
  },
  {
   "cell_type": "code",
   "execution_count": 264,
   "id": "4d279b5a",
   "metadata": {},
   "outputs": [],
   "source": [
    "sns.swarmplot(x=data['traveltime'], y=data['G3'])"
   ]
  },
  {
   "cell_type": "code",
   "execution_count": 265,
   "id": "e95315de",
   "metadata": {},
   "outputs": [],
   "source": [
    "data.groupby('studytime', as_index=False).agg({'G3': 'mean'})"
   ]
  },
  {
   "cell_type": "code",
   "execution_count": 266,
   "id": "8638e34b",
   "metadata": {},
   "outputs": [],
   "source": [
    "mjob_target_encoder = TargetEncoder()\n",
    "mjob_target_encoder.fit(data['Mjob'], data['G3'])\n",
    "data['Mjob_encoded'] = mjob_target_encoder.transform(data['Mjob'])\n"
   ]
  },
  {
   "cell_type": "code",
   "execution_count": 268,
   "id": "34fcd8c1",
   "metadata": {},
   "outputs": [],
   "source": [
    "fjob_target_encoder = TargetEncoder()\n",
    "fjob_target_encoder.fit(data['Fjob'], data['G3'])\n",
    "data['Fjob_encoded'] = fjob_target_encoder.transform(data['Fjob'])\n"
   ]
  },
  {
   "cell_type": "code",
   "execution_count": 269,
   "id": "344ba2ac",
   "metadata": {},
   "outputs": [],
   "source": [
    "higher_target_encoder = TargetEncoder()\n",
    "higher_target_encoder.fit(data['higher'], data['G3'])\n",
    "data['higher_encoded'] = higher_target_encoder.transform(data['higher'])\n"
   ]
  },
  {
   "cell_type": "code",
   "execution_count": 270,
   "id": "ac29db03",
   "metadata": {},
   "outputs": [],
   "source": [
    "schoolsup_target_encoder = TargetEncoder()\n",
    "schoolsup_target_encoder.fit(data['schoolsup'], data['G3'])\n",
    "data['schoolsup_encoded'] = schoolsup_target_encoder.transform(data['schoolsup'])\n"
   ]
  },
  {
   "cell_type": "code",
   "execution_count": 271,
   "id": "0a7e7fe8",
   "metadata": {},
   "outputs": [],
   "source": [
    "dataset = data.drop(columns=['school', 'gender', 'address', 'famsize', 'Pstatus', \n",
    "        'Mjob', 'Fjob', 'reason', 'guardian',\n",
    "       'schoolsup', 'famsup', 'paid', 'activities', 'nursery',\n",
    "       'higher', 'internet', 'romantic', 'famrel', 'freetime',\n",
    "       'health', 'absences'])"
   ]
  },
  {
   "cell_type": "code",
   "execution_count": 272,
   "id": "d7170af5",
   "metadata": {},
   "outputs": [],
   "source": [
    "dataset = dataset[dataset['G3'] != 0]\n",
    "X = dataset.drop(columns='G3')\n",
    "Y = dataset['G3']"
   ]
  },
  {
   "cell_type": "code",
   "execution_count": 297,
   "id": "a6b2b3b8",
   "metadata": {},
   "outputs": [],
   "source": [
    "X_train, X_test, y_train, y_test = train_test_split(X, Y, test_size=50)"
   ]
  },
  {
   "cell_type": "code",
   "execution_count": 298,
   "id": "09a3ffd1",
   "metadata": {},
   "outputs": [],
   "source": [
    "scaler = MinMaxScaler()\n",
    "\n",
    "scaler.fit(X_train)\n",
    "X_train_scaled = scaler.transform(X_train)\n",
    "\n",
    "scaler.fit(X_test)\n",
    "X_test_scaled = scaler.transform(X_test)"
   ]
  },
  {
   "cell_type": "code",
   "execution_count": 299,
   "id": "e6a42406",
   "metadata": {},
   "outputs": [
    {
     "data": {
      "text/html": [
       "<style>#sk-container-id-8 {color: black;background-color: white;}#sk-container-id-8 pre{padding: 0;}#sk-container-id-8 div.sk-toggleable {background-color: white;}#sk-container-id-8 label.sk-toggleable__label {cursor: pointer;display: block;width: 100%;margin-bottom: 0;padding: 0.3em;box-sizing: border-box;text-align: center;}#sk-container-id-8 label.sk-toggleable__label-arrow:before {content: \"▸\";float: left;margin-right: 0.25em;color: #696969;}#sk-container-id-8 label.sk-toggleable__label-arrow:hover:before {color: black;}#sk-container-id-8 div.sk-estimator:hover label.sk-toggleable__label-arrow:before {color: black;}#sk-container-id-8 div.sk-toggleable__content {max-height: 0;max-width: 0;overflow: hidden;text-align: left;background-color: #f0f8ff;}#sk-container-id-8 div.sk-toggleable__content pre {margin: 0.2em;color: black;border-radius: 0.25em;background-color: #f0f8ff;}#sk-container-id-8 input.sk-toggleable__control:checked~div.sk-toggleable__content {max-height: 200px;max-width: 100%;overflow: auto;}#sk-container-id-8 input.sk-toggleable__control:checked~label.sk-toggleable__label-arrow:before {content: \"▾\";}#sk-container-id-8 div.sk-estimator input.sk-toggleable__control:checked~label.sk-toggleable__label {background-color: #d4ebff;}#sk-container-id-8 div.sk-label input.sk-toggleable__control:checked~label.sk-toggleable__label {background-color: #d4ebff;}#sk-container-id-8 input.sk-hidden--visually {border: 0;clip: rect(1px 1px 1px 1px);clip: rect(1px, 1px, 1px, 1px);height: 1px;margin: -1px;overflow: hidden;padding: 0;position: absolute;width: 1px;}#sk-container-id-8 div.sk-estimator {font-family: monospace;background-color: #f0f8ff;border: 1px dotted black;border-radius: 0.25em;box-sizing: border-box;margin-bottom: 0.5em;}#sk-container-id-8 div.sk-estimator:hover {background-color: #d4ebff;}#sk-container-id-8 div.sk-parallel-item::after {content: \"\";width: 100%;border-bottom: 1px solid gray;flex-grow: 1;}#sk-container-id-8 div.sk-label:hover label.sk-toggleable__label {background-color: #d4ebff;}#sk-container-id-8 div.sk-serial::before {content: \"\";position: absolute;border-left: 1px solid gray;box-sizing: border-box;top: 0;bottom: 0;left: 50%;z-index: 0;}#sk-container-id-8 div.sk-serial {display: flex;flex-direction: column;align-items: center;background-color: white;padding-right: 0.2em;padding-left: 0.2em;position: relative;}#sk-container-id-8 div.sk-item {position: relative;z-index: 1;}#sk-container-id-8 div.sk-parallel {display: flex;align-items: stretch;justify-content: center;background-color: white;position: relative;}#sk-container-id-8 div.sk-item::before, #sk-container-id-8 div.sk-parallel-item::before {content: \"\";position: absolute;border-left: 1px solid gray;box-sizing: border-box;top: 0;bottom: 0;left: 50%;z-index: -1;}#sk-container-id-8 div.sk-parallel-item {display: flex;flex-direction: column;z-index: 1;position: relative;background-color: white;}#sk-container-id-8 div.sk-parallel-item:first-child::after {align-self: flex-end;width: 50%;}#sk-container-id-8 div.sk-parallel-item:last-child::after {align-self: flex-start;width: 50%;}#sk-container-id-8 div.sk-parallel-item:only-child::after {width: 0;}#sk-container-id-8 div.sk-dashed-wrapped {border: 1px dashed gray;margin: 0 0.4em 0.5em 0.4em;box-sizing: border-box;padding-bottom: 0.4em;background-color: white;}#sk-container-id-8 div.sk-label label {font-family: monospace;font-weight: bold;display: inline-block;line-height: 1.2em;}#sk-container-id-8 div.sk-label-container {text-align: center;}#sk-container-id-8 div.sk-container {/* jupyter's `normalize.less` sets `[hidden] { display: none; }` but bootstrap.min.css set `[hidden] { display: none !important; }` so we also need the `!important` here to be able to override the default hidden behavior on the sphinx rendered scikit-learn.org. See: https://github.com/scikit-learn/scikit-learn/issues/21755 */display: inline-block !important;position: relative;}#sk-container-id-8 div.sk-text-repr-fallback {display: none;}</style><div id=\"sk-container-id-8\" class=\"sk-top-container\"><div class=\"sk-text-repr-fallback\"><pre>LinearRegression()</pre><b>In a Jupyter environment, please rerun this cell to show the HTML representation or trust the notebook. <br />On GitHub, the HTML representation is unable to render, please try loading this page with nbviewer.org.</b></div><div class=\"sk-container\" hidden><div class=\"sk-item\"><div class=\"sk-estimator sk-toggleable\"><input class=\"sk-toggleable__control sk-hidden--visually\" id=\"sk-estimator-id-8\" type=\"checkbox\" checked><label for=\"sk-estimator-id-8\" class=\"sk-toggleable__label sk-toggleable__label-arrow\">LinearRegression</label><div class=\"sk-toggleable__content\"><pre>LinearRegression()</pre></div></div></div></div></div>"
      ],
      "text/plain": [
       "LinearRegression()"
      ]
     },
     "execution_count": 299,
     "metadata": {},
     "output_type": "execute_result"
    }
   ],
   "source": [
    "model = LinearRegression()\n",
    "model.fit(X_train_scaled, y_train)"
   ]
  },
  {
   "cell_type": "code",
   "execution_count": 303,
   "id": "dc2fbcb4",
   "metadata": {},
   "outputs": [
    {
     "data": {
      "text/plain": [
       "0.6473450745446452"
      ]
     },
     "execution_count": 303,
     "metadata": {},
     "output_type": "execute_result"
    }
   ],
   "source": [
    "model.score(X_test_scaled, y_test)"
   ]
  },
  {
   "cell_type": "code",
   "execution_count": 304,
   "id": "86e6fa00",
   "metadata": {},
   "outputs": [],
   "source": [
    "def score_model(model, X_test_scaled, y_test):\n",
    "    y_preds = model.predict(X_test_scaled)\n",
    "    \n",
    "    errs = []\n",
    "    \n",
    "    for y, y_pred in zip(y_test, y_preds):\n",
    "        errs.append(abs(y - y_pred))\n",
    "        \n",
    "    mae = sum(errs) / len(errs)\n",
    "    mean_y_test = sum(y_test) / len(y_test)\n",
    "    r2 = 1 - sum(err ** 2 for err in errs) / sum((y - mean_y_test) ** 2 for y in y_test)\n",
    "    \n",
    "    return mae, r2"
   ]
  },
  {
   "cell_type": "code",
   "execution_count": 306,
   "id": "986f8894",
   "metadata": {},
   "outputs": [
    {
     "data": {
      "text/plain": [
       "(1.4549728280964347, 0.6473450745446452)"
      ]
     },
     "execution_count": 306,
     "metadata": {},
     "output_type": "execute_result"
    }
   ],
   "source": [
    "score_model(model, X_test_scaled, y_test)"
   ]
  },
  {
   "cell_type": "code",
   "execution_count": 311,
   "id": "be0d6da0",
   "metadata": {},
   "outputs": [],
   "source": [
    "maes = []\n",
    "r2s = []\n",
    "\n",
    "X_y_test = X_test.copy()\n",
    "X_y_test['y'] = y_test\n",
    "\n",
    "for i in range(1000):\n",
    "    X_y_sample = X_y_test.sample(len(X_y_test), replace=True)\n",
    "    \n",
    "    X_test_sample = X_y_sample.drop(columns='y')\n",
    "    X_test_sample = scaler.transform(X_test_sample)\n",
    "    \n",
    "    y_test_sample = X_y_sample['y']\n",
    "    \n",
    "    mae_sample, r2_sample = score_model(model, X_test_sample, y_test_sample)\n",
    "    maes.append(mae_sample)\n",
    "    r2s.append(r2_sample)"
   ]
  },
  {
   "cell_type": "code",
   "execution_count": 318,
   "id": "91d68a93",
   "metadata": {},
   "outputs": [
    {
     "data": {
      "text/plain": [
       "<AxesSubplot: ylabel='Count'>"
      ]
     },
     "execution_count": 318,
     "metadata": {},
     "output_type": "execute_result"
    },
    {
     "data": {
      "image/png": "[encoded data removed]",
      "text/plain": [
       "<Figure size 640x480 with 1 Axes>"
      ]
     },
     "metadata": {},
     "output_type": "display_data"
    }
   ],
   "source": [
    "sns.histplot(maes)"
   ]
  },
  {
   "cell_type": "code",
   "execution_count": 315,
   "id": "ea7bfe5e",
   "metadata": {},
   "outputs": [],
   "source": [
    "maes = sorted(maes)\n",
    "maes = maes[25:975]"
   ]
  },
  {
   "cell_type": "code",
   "execution_count": 317,
   "id": "c7b906d9",
   "metadata": {},
   "outputs": [
    {
     "data": {
      "text/plain": [
       "(1.1851556145255053, 1.7201789399251988)"
      ]
     },
     "execution_count": 317,
     "metadata": {},
     "output_type": "execute_result"
    }
   ],
   "source": [
    "maes[0], maes[-1]"
   ]
  },
  {
   "cell_type": "code",
   "execution_count": 319,
   "id": "53abd404",
   "metadata": {},
   "outputs": [
    {
     "data": {
      "text/plain": [
       "array([-1.84157482,  0.5698539 ,  0.02408284, -0.07740543,  0.09977451,\n",
       "       -0.05695367, -0.29510771, 12.43872211,  0.17814796, -0.24836759,\n",
       "       -0.66148831,  0.26574973])"
      ]
     },
     "execution_count": 319,
     "metadata": {},
     "output_type": "execute_result"
    }
   ],
   "source": [
    "model.coef_"
   ]
  },
  {
   "cell_type": "code",
   "execution_count": 323,
   "id": "a13a655d",
   "metadata": {},
   "outputs": [
    {
     "name": "stdout",
     "output_type": "stream",
     "text": [
      "age\t-1.841574815498638\n",
      "Medu\t0.5698538968372117\n",
      "Fedu\t0.024082835617097037\n",
      "traveltime\t-0.0774054262652228\n",
      "studytime\t0.09977450931344588\n",
      "failures\t-0.05695367001194773\n",
      "goout\t-0.29510771186960705\n",
      "G1\t12.438722111180079\n",
      "Mjob_encoded\t0.17814795591929888\n",
      "Fjob_encoded\t-0.24836759009635004\n",
      "higher_encoded\t-0.6614883106087621\n",
      "schoolsup_encoded\t0.26574973067512186\n"
     ]
    }
   ],
   "source": [
    "for x, coeff in zip(X_train.columns, model.coef_):\n",
    "    print(f'{x}\\t{coeff}')"
   ]
  },
  {
   "cell_type": "code",
   "execution_count": null,
   "id": "4e583567",
   "metadata": {},
   "outputs": [],
   "source": []
  }
 ],
 "metadata": {
  "kernelspec": {
   "display_name": "Python 3 (ipykernel)",
   "language": "python",
   "name": "python3"
  },
  "language_info": {
   "codemirror_mode": {
    "name": "ipython",
    "version": 3
   },
   "file_extension": ".py",
   "mimetype": "text/x-python",
   "name": "python",
   "nbconvert_exporter": "python",
   "pygments_lexer": "ipython3",
   "version": "3.11.0"
  }
 },
 "nbformat": 4,
 "nbformat_minor": 5
}
